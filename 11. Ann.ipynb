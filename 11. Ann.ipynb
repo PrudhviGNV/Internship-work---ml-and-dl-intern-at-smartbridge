{
 "cells": [
  {
   "cell_type": "code",
   "execution_count": 1,
   "metadata": {},
   "outputs": [],
   "source": [
    "import pandas as pd\n",
    "import numpy as np\n",
    "import matplotlib.pyplot as plt"
   ]
  },
  {
   "cell_type": "code",
   "execution_count": 2,
   "metadata": {},
   "outputs": [],
   "source": [
    "dataset = pd.read_csv('C:\\Machine Learning\\Machine Learning A-Z Template Folder\\Part 8 - Deep Learning\\Section 39 - Artificial Neural Networks (ANN)\\Artificial_Neural_Networks\\Churn_Modelling.csv')"
   ]
  },
  {
   "cell_type": "code",
   "execution_count": 3,
   "metadata": {},
   "outputs": [
    {
     "data": {
      "text/html": [
       "<div>\n",
       "<style scoped>\n",
       "    .dataframe tbody tr th:only-of-type {\n",
       "        vertical-align: middle;\n",
       "    }\n",
       "\n",
       "    .dataframe tbody tr th {\n",
       "        vertical-align: top;\n",
       "    }\n",
       "\n",
       "    .dataframe thead th {\n",
       "        text-align: right;\n",
       "    }\n",
       "</style>\n",
       "<table border=\"1\" class=\"dataframe\">\n",
       "  <thead>\n",
       "    <tr style=\"text-align: right;\">\n",
       "      <th></th>\n",
       "      <th>RowNumber</th>\n",
       "      <th>CustomerId</th>\n",
       "      <th>Surname</th>\n",
       "      <th>CreditScore</th>\n",
       "      <th>Geography</th>\n",
       "      <th>Gender</th>\n",
       "      <th>Age</th>\n",
       "      <th>Tenure</th>\n",
       "      <th>Balance</th>\n",
       "      <th>NumOfProducts</th>\n",
       "      <th>HasCrCard</th>\n",
       "      <th>IsActiveMember</th>\n",
       "      <th>EstimatedSalary</th>\n",
       "      <th>Exited</th>\n",
       "    </tr>\n",
       "  </thead>\n",
       "  <tbody>\n",
       "    <tr>\n",
       "      <th>0</th>\n",
       "      <td>1</td>\n",
       "      <td>15634602</td>\n",
       "      <td>Hargrave</td>\n",
       "      <td>619</td>\n",
       "      <td>France</td>\n",
       "      <td>Female</td>\n",
       "      <td>42</td>\n",
       "      <td>2</td>\n",
       "      <td>0.00</td>\n",
       "      <td>1</td>\n",
       "      <td>1</td>\n",
       "      <td>1</td>\n",
       "      <td>101348.88</td>\n",
       "      <td>1</td>\n",
       "    </tr>\n",
       "    <tr>\n",
       "      <th>1</th>\n",
       "      <td>2</td>\n",
       "      <td>15647311</td>\n",
       "      <td>Hill</td>\n",
       "      <td>608</td>\n",
       "      <td>Spain</td>\n",
       "      <td>Female</td>\n",
       "      <td>41</td>\n",
       "      <td>1</td>\n",
       "      <td>83807.86</td>\n",
       "      <td>1</td>\n",
       "      <td>0</td>\n",
       "      <td>1</td>\n",
       "      <td>112542.58</td>\n",
       "      <td>0</td>\n",
       "    </tr>\n",
       "  </tbody>\n",
       "</table>\n",
       "</div>"
      ],
      "text/plain": [
       "   RowNumber  CustomerId   Surname  CreditScore Geography  Gender  Age  \\\n",
       "0          1    15634602  Hargrave          619    France  Female   42   \n",
       "1          2    15647311      Hill          608     Spain  Female   41   \n",
       "\n",
       "   Tenure   Balance  NumOfProducts  HasCrCard  IsActiveMember  \\\n",
       "0       2      0.00              1          1               1   \n",
       "1       1  83807.86              1          0               1   \n",
       "\n",
       "   EstimatedSalary  Exited  \n",
       "0        101348.88       1  \n",
       "1        112542.58       0  "
      ]
     },
     "execution_count": 3,
     "metadata": {},
     "output_type": "execute_result"
    }
   ],
   "source": [
    "dataset.head(2)\n"
   ]
  },
  {
   "cell_type": "code",
   "execution_count": 4,
   "metadata": {},
   "outputs": [
    {
     "data": {
      "text/plain": [
       "RowNumber          False\n",
       "CustomerId         False\n",
       "Surname            False\n",
       "CreditScore        False\n",
       "Geography          False\n",
       "Gender             False\n",
       "Age                False\n",
       "Tenure             False\n",
       "Balance            False\n",
       "NumOfProducts      False\n",
       "HasCrCard          False\n",
       "IsActiveMember     False\n",
       "EstimatedSalary    False\n",
       "Exited             False\n",
       "dtype: bool"
      ]
     },
     "execution_count": 4,
     "metadata": {},
     "output_type": "execute_result"
    }
   ],
   "source": [
    "dataset.isnull().any()"
   ]
  },
  {
   "cell_type": "code",
   "execution_count": 14,
   "metadata": {},
   "outputs": [],
   "source": [
    "x = dataset.iloc[:,3:-1].values\n",
    "y = dataset.iloc[:,13].values"
   ]
  },
  {
   "cell_type": "code",
   "execution_count": 15,
   "metadata": {},
   "outputs": [
    {
     "data": {
      "text/plain": [
       "array(['France', 'Spain', 'France', ..., 'France', 'Germany', 'France'],\n",
       "      dtype=object)"
      ]
     },
     "execution_count": 15,
     "metadata": {},
     "output_type": "execute_result"
    }
   ],
   "source": [
    "x[:,1]"
   ]
  },
  {
   "cell_type": "code",
   "execution_count": 16,
   "metadata": {},
   "outputs": [],
   "source": [
    "from sklearn.preprocessing import LabelEncoder\n",
    "lb1 = LabelEncoder()\n",
    "x[:,1] = lb1.fit_transform(x[:,1])"
   ]
  },
  {
   "cell_type": "code",
   "execution_count": 22,
   "metadata": {},
   "outputs": [],
   "source": [
    "lb2 = LabelEncoder()\n",
    "x[:,2] = lb1.fit_transform(x[:,2])"
   ]
  },
  {
   "cell_type": "code",
   "execution_count": 23,
   "metadata": {},
   "outputs": [],
   "source": [
    "from sklearn.preprocessing import OneHotEncoder\n",
    "o1 = OneHotEncoder(categorical_features = [1])\n",
    "x = o1.fit_transform(x).toarray()\n"
   ]
  },
  {
   "cell_type": "code",
   "execution_count": 26,
   "metadata": {},
   "outputs": [],
   "source": [
    "x=x[:,1:]"
   ]
  },
  {
   "cell_type": "code",
   "execution_count": 27,
   "metadata": {},
   "outputs": [],
   "source": [
    "from sklearn.cross_validation import train_test_split\n",
    "x_train,x_test,y_train,y_test = train_test_split(x,y, test_size = 0.3,random_state = 0)"
   ]
  },
  {
   "cell_type": "code",
   "execution_count": 40,
   "metadata": {},
   "outputs": [],
   "source": [
    "from sklearn.preprocessing import StandardScaler\n",
    "sc = StandardScaler()\n",
    "x_train = sc.fit_transform(x_train)\n",
    "x_test = sc.transform(x_test)"
   ]
  },
  {
   "cell_type": "code",
   "execution_count": 28,
   "metadata": {},
   "outputs": [
    {
     "name": "stderr",
     "output_type": "stream",
     "text": [
      "C:\\ProgramData\\Anaconda3\\lib\\site-packages\\h5py\\__init__.py:36: FutureWarning: Conversion of the second argument of issubdtype from `float` to `np.floating` is deprecated. In future, it will be treated as `np.float64 == np.dtype(float).type`.\n",
      "  from ._conv import register_converters as _register_converters\n",
      "Using TensorFlow backend.\n"
     ]
    }
   ],
   "source": [
    "import keras\n",
    "from keras.models import Sequential\n",
    "from keras.layers import Dense"
   ]
  },
  {
   "cell_type": "code",
   "execution_count": 29,
   "metadata": {},
   "outputs": [],
   "source": [
    "model=Sequential()"
   ]
  },
  {
   "cell_type": "code",
   "execution_count": 32,
   "metadata": {},
   "outputs": [
    {
     "data": {
      "text/plain": [
       "(7000, 11)"
      ]
     },
     "execution_count": 32,
     "metadata": {},
     "output_type": "execute_result"
    }
   ],
   "source": [
    "x_train.shape"
   ]
  },
  {
   "cell_type": "code",
   "execution_count": 33,
   "metadata": {},
   "outputs": [
    {
     "name": "stdout",
     "output_type": "stream",
     "text": [
      "WARNING:tensorflow:From C:\\ProgramData\\Anaconda3\\lib\\site-packages\\tensorflow\\python\\framework\\op_def_library.py:263: colocate_with (from tensorflow.python.framework.ops) is deprecated and will be removed in a future version.\n",
      "Instructions for updating:\n",
      "Colocations handled automatically by placer.\n"
     ]
    },
    {
     "name": "stderr",
     "output_type": "stream",
     "text": [
      "C:\\ProgramData\\Anaconda3\\lib\\site-packages\\ipykernel_launcher.py:1: UserWarning: Update your `Dense` call to the Keras 2 API: `Dense(input_dim=11, activation=\"relu\", units=6, kernel_initializer=\"random_uniform\")`\n",
      "  \"\"\"Entry point for launching an IPython kernel.\n"
     ]
    }
   ],
   "source": [
    "model.add(Dense(input_dim=11,init=\"random_uniform\",activation='relu',output_dim=6))"
   ]
  },
  {
   "cell_type": "code",
   "execution_count": 34,
   "metadata": {},
   "outputs": [
    {
     "name": "stderr",
     "output_type": "stream",
     "text": [
      "C:\\ProgramData\\Anaconda3\\lib\\site-packages\\ipykernel_launcher.py:1: UserWarning: Update your `Dense` call to the Keras 2 API: `Dense(activation=\"relu\", units=6, kernel_initializer=\"random_uniform\")`\n",
      "  \"\"\"Entry point for launching an IPython kernel.\n"
     ]
    }
   ],
   "source": [
    "model.add(Dense(init=\"random_uniform\",activation='relu',output_dim=6))"
   ]
  },
  {
   "cell_type": "code",
   "execution_count": 35,
   "metadata": {},
   "outputs": [
    {
     "name": "stderr",
     "output_type": "stream",
     "text": [
      "C:\\ProgramData\\Anaconda3\\lib\\site-packages\\ipykernel_launcher.py:1: UserWarning: Update your `Dense` call to the Keras 2 API: `Dense(activation=\"sigmoid\", units=1, kernel_initializer=\"random_uniform\")`\n",
      "  \"\"\"Entry point for launching an IPython kernel.\n"
     ]
    }
   ],
   "source": [
    "model.add(Dense(output_dim=1,init='random_uniform',activation='sigmoid'))"
   ]
  },
  {
   "cell_type": "code",
   "execution_count": 37,
   "metadata": {},
   "outputs": [],
   "source": [
    "model.compile(optimizer='adam',loss='binary_crossentropy',metrics=['accuracy'])"
   ]
  },
  {
   "cell_type": "code",
   "execution_count": 41,
   "metadata": {},
   "outputs": [
    {
     "name": "stdout",
     "output_type": "stream",
     "text": [
      "Epoch 1/50\n",
      "7000/7000 [==============================] - 0s 56us/step - loss: 0.4973 - acc: 0.7977\n",
      "Epoch 2/50\n",
      "7000/7000 [==============================] - 0s 54us/step - loss: 0.4398 - acc: 0.8136\n",
      "Epoch 3/50\n",
      "7000/7000 [==============================] - 0s 58us/step - loss: 0.4058 - acc: 0.8293\n",
      "Epoch 4/50\n",
      "7000/7000 [==============================] - 0s 54us/step - loss: 0.3916 - acc: 0.8343\n",
      "Epoch 5/50\n",
      "7000/7000 [==============================] - 0s 54us/step - loss: 0.3824 - acc: 0.8416\n",
      "Epoch 6/50\n",
      "7000/7000 [==============================] - 0s 55us/step - loss: 0.3757 - acc: 0.8481\n",
      "Epoch 7/50\n",
      "7000/7000 [==============================] - 0s 53us/step - loss: 0.3699 - acc: 0.8506\n",
      "Epoch 8/50\n",
      "7000/7000 [==============================] - 0s 56us/step - loss: 0.3654 - acc: 0.8533\n",
      "Epoch 9/50\n",
      "7000/7000 [==============================] - 0s 53us/step - loss: 0.3602 - acc: 0.8554\n",
      "Epoch 10/50\n",
      "7000/7000 [==============================] - 0s 54us/step - loss: 0.3567 - acc: 0.8587\n",
      "Epoch 11/50\n",
      "7000/7000 [==============================] - 0s 55us/step - loss: 0.3537 - acc: 0.8590\n",
      "Epoch 12/50\n",
      "7000/7000 [==============================] - 0s 55us/step - loss: 0.3508 - acc: 0.8577\n",
      "Epoch 13/50\n",
      "7000/7000 [==============================] - 0s 54us/step - loss: 0.3488 - acc: 0.8590\n",
      "Epoch 14/50\n",
      "7000/7000 [==============================] - 0s 55us/step - loss: 0.3472 - acc: 0.8597\n",
      "Epoch 15/50\n",
      "7000/7000 [==============================] - 0s 58us/step - loss: 0.3459 - acc: 0.8583\n",
      "Epoch 16/50\n",
      "7000/7000 [==============================] - 0s 54us/step - loss: 0.3444 - acc: 0.8597\n",
      "Epoch 17/50\n",
      "7000/7000 [==============================] - 0s 56us/step - loss: 0.3436 - acc: 0.8609\n",
      "Epoch 18/50\n",
      "7000/7000 [==============================] - 0s 61us/step - loss: 0.3427 - acc: 0.8606\n",
      "Epoch 19/50\n",
      "7000/7000 [==============================] - 0s 62us/step - loss: 0.3421 - acc: 0.8600\n",
      "Epoch 20/50\n",
      "7000/7000 [==============================] - 0s 59us/step - loss: 0.3421 - acc: 0.8617\n",
      "Epoch 21/50\n",
      "7000/7000 [==============================] - 0s 55us/step - loss: 0.3415 - acc: 0.8614\n",
      "Epoch 22/50\n",
      "7000/7000 [==============================] - 0s 56us/step - loss: 0.3412 - acc: 0.8601\n",
      "Epoch 23/50\n",
      "7000/7000 [==============================] - 0s 62us/step - loss: 0.3408 - acc: 0.8629\n",
      "Epoch 24/50\n",
      "7000/7000 [==============================] - 0s 57us/step - loss: 0.3409 - acc: 0.8609\n",
      "Epoch 25/50\n",
      "7000/7000 [==============================] - 0s 59us/step - loss: 0.3403 - acc: 0.8616\n",
      "Epoch 26/50\n",
      "7000/7000 [==============================] - 0s 56us/step - loss: 0.3401 - acc: 0.8617\n",
      "Epoch 27/50\n",
      "7000/7000 [==============================] - 0s 55us/step - loss: 0.3392 - acc: 0.8617\n",
      "Epoch 28/50\n",
      "7000/7000 [==============================] - 0s 61us/step - loss: 0.3394 - acc: 0.8614\n",
      "Epoch 29/50\n",
      "7000/7000 [==============================] - 0s 59us/step - loss: 0.3389 - acc: 0.8629\n",
      "Epoch 30/50\n",
      "7000/7000 [==============================] - 0s 63us/step - loss: 0.3389 - acc: 0.8614\n",
      "Epoch 31/50\n",
      "7000/7000 [==============================] - 0s 63us/step - loss: 0.3387 - acc: 0.8619\n",
      "Epoch 32/50\n",
      "7000/7000 [==============================] - 0s 62us/step - loss: 0.3388 - acc: 0.8606\n",
      "Epoch 33/50\n",
      "7000/7000 [==============================] - 0s 64us/step - loss: 0.3387 - acc: 0.8636\n",
      "Epoch 34/50\n",
      "7000/7000 [==============================] - 0s 55us/step - loss: 0.3372 - acc: 0.8636\n",
      "Epoch 35/50\n",
      "7000/7000 [==============================] - 0s 56us/step - loss: 0.3381 - acc: 0.8626\n",
      "Epoch 36/50\n",
      "7000/7000 [==============================] - 0s 69us/step - loss: 0.3382 - acc: 0.8626\n",
      "Epoch 37/50\n",
      "7000/7000 [==============================] - 0s 67us/step - loss: 0.3374 - acc: 0.8623\n",
      "Epoch 38/50\n",
      "7000/7000 [==============================] - 1s 75us/step - loss: 0.3379 - acc: 0.8619\n",
      "Epoch 39/50\n",
      "7000/7000 [==============================] - 1s 79us/step - loss: 0.3372 - acc: 0.8609\n",
      "Epoch 40/50\n",
      "7000/7000 [==============================] - 1s 76us/step - loss: 0.3374 - acc: 0.8626\n",
      "Epoch 41/50\n",
      "7000/7000 [==============================] - 0s 60us/step - loss: 0.3369 - acc: 0.8629\n",
      "Epoch 42/50\n",
      "7000/7000 [==============================] - 0s 61us/step - loss: 0.3370 - acc: 0.8623\n",
      "Epoch 43/50\n",
      "7000/7000 [==============================] - 0s 59us/step - loss: 0.3368 - acc: 0.8643\n",
      "Epoch 44/50\n",
      "7000/7000 [==============================] - 0s 58us/step - loss: 0.3363 - acc: 0.8613\n",
      "Epoch 45/50\n",
      "7000/7000 [==============================] - 0s 64us/step - loss: 0.3368 - acc: 0.8627\n",
      "Epoch 46/50\n",
      "7000/7000 [==============================] - 1s 72us/step - loss: 0.3364 - acc: 0.8633\n",
      "Epoch 47/50\n",
      "7000/7000 [==============================] - 0s 63us/step - loss: 0.3366 - acc: 0.8636\n",
      "Epoch 48/50\n",
      "7000/7000 [==============================] - 0s 61us/step - loss: 0.3365 - acc: 0.8617\n",
      "Epoch 49/50\n",
      "7000/7000 [==============================] - 0s 57us/step - loss: 0.3362 - acc: 0.8627\n",
      "Epoch 50/50\n",
      "7000/7000 [==============================] - 0s 64us/step - loss: 0.3363 - acc: 0.8619\n"
     ]
    },
    {
     "data": {
      "text/plain": [
       "<keras.callbacks.History at 0x26dc00db518>"
      ]
     },
     "execution_count": 41,
     "metadata": {},
     "output_type": "execute_result"
    }
   ],
   "source": [
    "model.fit(x_train,y_train,epochs=50,batch_size=32)"
   ]
  },
  {
   "cell_type": "code",
   "execution_count": 51,
   "metadata": {},
   "outputs": [],
   "source": [
    "y_pred=model.predict(x_test)"
   ]
  },
  {
   "cell_type": "code",
   "execution_count": 53,
   "metadata": {},
   "outputs": [
    {
     "data": {
      "text/plain": [
       "0.0024597943"
      ]
     },
     "execution_count": 53,
     "metadata": {},
     "output_type": "execute_result"
    }
   ],
   "source": [
    "y_pred.min()"
   ]
  },
  {
   "cell_type": "code",
   "execution_count": 44,
   "metadata": {},
   "outputs": [],
   "source": [
    "y_pred = (y_pred > 0.5)"
   ]
  },
  {
   "cell_type": "code",
   "execution_count": 45,
   "metadata": {},
   "outputs": [
    {
     "data": {
      "text/plain": [
       "array([[False],\n",
       "       [False],\n",
       "       [False],\n",
       "       ...,\n",
       "       [False],\n",
       "       [False],\n",
       "       [ True]])"
      ]
     },
     "execution_count": 45,
     "metadata": {},
     "output_type": "execute_result"
    }
   ],
   "source": [
    "y_pred"
   ]
  },
  {
   "cell_type": "code",
   "execution_count": 47,
   "metadata": {},
   "outputs": [],
   "source": [
    "y_p=model.predict(np.array([[0,1,100,1,25,8,115000,24,1,1,100000]]))"
   ]
  },
  {
   "cell_type": "code",
   "execution_count": 48,
   "metadata": {},
   "outputs": [
    {
     "data": {
      "text/plain": [
       "array([[1.]], dtype=float32)"
      ]
     },
     "execution_count": 48,
     "metadata": {},
     "output_type": "execute_result"
    }
   ],
   "source": [
    "y_p"
   ]
  },
  {
   "cell_type": "code",
   "execution_count": 49,
   "metadata": {},
   "outputs": [],
   "source": [
    "y_p = (y_p > 0.5)"
   ]
  },
  {
   "cell_type": "code",
   "execution_count": 50,
   "metadata": {},
   "outputs": [
    {
     "data": {
      "text/plain": [
       "array([[ True]])"
      ]
     },
     "execution_count": 50,
     "metadata": {},
     "output_type": "execute_result"
    }
   ],
   "source": [
    "y_p"
   ]
  },
  {
   "cell_type": "code",
   "execution_count": null,
   "metadata": {},
   "outputs": [],
   "source": []
  }
 ],
 "metadata": {
  "kernelspec": {
   "display_name": "Python 3",
   "language": "python",
   "name": "python3"
  },
  "language_info": {
   "codemirror_mode": {
    "name": "ipython",
    "version": 3
   },
   "file_extension": ".py",
   "mimetype": "text/x-python",
   "name": "python",
   "nbconvert_exporter": "python",
   "pygments_lexer": "ipython3",
   "version": "3.6.4"
  }
 },
 "nbformat": 4,
 "nbformat_minor": 2
}
