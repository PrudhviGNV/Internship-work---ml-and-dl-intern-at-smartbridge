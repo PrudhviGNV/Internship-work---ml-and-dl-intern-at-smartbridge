{
  "nbformat": 4,
  "nbformat_minor": 0,
  "metadata": {
    "anaconda-cloud": {},
    "kernelspec": {
      "display_name": "Python 3.6",
      "language": "python",
      "name": "python3"
    },
    "language_info": {
      "codemirror_mode": {
        "name": "ipython",
        "version": 3
      },
      "file_extension": ".py",
      "mimetype": "text/x-python",
      "name": "python",
      "nbconvert_exporter": "python",
      "pygments_lexer": "ipython3",
      "version": "3.6.9"
    },
    "colab": {
      "name": "ANN_50_startups.ipynb",
      "provenance": []
    }
  },
  "cells": [
    {
      "cell_type": "code",
      "metadata": {
        "id": "u_eEZQJLCAWx",
        "colab_type": "code",
        "colab": {}
      },
      "source": [
        "%matplotlib inline\n",
        "import numpy as np\n",
        "import pandas as pd\n",
        "import matplotlib.pyplot as plt\n",
        "from sklearn import linear_model"
      ],
      "execution_count": 0,
      "outputs": []
    },
    {
      "cell_type": "code",
      "metadata": {
        "id": "hSNzgCHJCAW5",
        "colab_type": "code",
        "colab": {},
        "outputId": "1476f72f-9133-4e34-ed80-94dbfb8ba839"
      },
      "source": [
        "df=pd.read_csv(\"50_startups.csv\")"
      ],
      "execution_count": 0,
      "outputs": [
        {
          "output_type": "execute_result",
          "data": {
            "text/html": [
              "<div>\n",
              "<style scoped>\n",
              "    .dataframe tbody tr th:only-of-type {\n",
              "        vertical-align: middle;\n",
              "    }\n",
              "\n",
              "    .dataframe tbody tr th {\n",
              "        vertical-align: top;\n",
              "    }\n",
              "\n",
              "    .dataframe thead th {\n",
              "        text-align: right;\n",
              "    }\n",
              "</style>\n",
              "<table border=\"1\" class=\"dataframe\">\n",
              "  <thead>\n",
              "    <tr style=\"text-align: right;\">\n",
              "      <th></th>\n",
              "      <th>RDSpend</th>\n",
              "      <th>Administration</th>\n",
              "      <th>MarketingSpend</th>\n",
              "      <th>State</th>\n",
              "      <th>Profit</th>\n",
              "    </tr>\n",
              "  </thead>\n",
              "  <tbody>\n",
              "    <tr>\n",
              "      <th>0</th>\n",
              "      <td>165349.20</td>\n",
              "      <td>136897.80</td>\n",
              "      <td>471784.10</td>\n",
              "      <td>New York</td>\n",
              "      <td>192261.83</td>\n",
              "    </tr>\n",
              "    <tr>\n",
              "      <th>1</th>\n",
              "      <td>162597.70</td>\n",
              "      <td>151377.59</td>\n",
              "      <td>443898.53</td>\n",
              "      <td>California</td>\n",
              "      <td>191792.06</td>\n",
              "    </tr>\n",
              "    <tr>\n",
              "      <th>2</th>\n",
              "      <td>153441.51</td>\n",
              "      <td>101145.55</td>\n",
              "      <td>407934.54</td>\n",
              "      <td>Florida</td>\n",
              "      <td>191050.39</td>\n",
              "    </tr>\n",
              "    <tr>\n",
              "      <th>3</th>\n",
              "      <td>144372.41</td>\n",
              "      <td>118671.85</td>\n",
              "      <td>383199.62</td>\n",
              "      <td>New York</td>\n",
              "      <td>182901.99</td>\n",
              "    </tr>\n",
              "    <tr>\n",
              "      <th>4</th>\n",
              "      <td>142107.34</td>\n",
              "      <td>91391.77</td>\n",
              "      <td>366168.42</td>\n",
              "      <td>Florida</td>\n",
              "      <td>166187.94</td>\n",
              "    </tr>\n",
              "  </tbody>\n",
              "</table>\n",
              "</div>"
            ],
            "text/plain": [
              "     RDSpend  Administration  MarketingSpend       State     Profit\n",
              "0  165349.20       136897.80       471784.10    New York  192261.83\n",
              "1  162597.70       151377.59       443898.53  California  191792.06\n",
              "2  153441.51       101145.55       407934.54     Florida  191050.39\n",
              "3  144372.41       118671.85       383199.62    New York  182901.99\n",
              "4  142107.34        91391.77       366168.42     Florida  166187.94"
            ]
          },
          "metadata": {
            "tags": []
          },
          "execution_count": 2
        }
      ]
    },
    {
      "cell_type": "code",
      "metadata": {
        "id": "Iug5CcKpCAXB",
        "colab_type": "code",
        "colab": {},
        "outputId": "ba3cd656-bd58-458b-926f-ec3cc97d67f9"
      },
      "source": [
        "df.isnull().sum()"
      ],
      "execution_count": 0,
      "outputs": [
        {
          "output_type": "execute_result",
          "data": {
            "text/plain": [
              "RDSpend           0\n",
              "Administration    0\n",
              "MarketingSpend    0\n",
              "State             0\n",
              "Profit            0\n",
              "dtype: int64"
            ]
          },
          "metadata": {
            "tags": []
          },
          "execution_count": 3
        }
      ]
    },
    {
      "cell_type": "code",
      "metadata": {
        "id": "UYLbf2QOCAXJ",
        "colab_type": "code",
        "colab": {}
      },
      "source": [
        "x = df.iloc[:,0:-1].values\n",
        "y = df.iloc[:,-1].values"
      ],
      "execution_count": 0,
      "outputs": []
    },
    {
      "cell_type": "code",
      "metadata": {
        "id": "rw92Zd5RCAXP",
        "colab_type": "code",
        "colab": {},
        "outputId": "8ed9910b-e910-449d-dc21-eb8794ae66e1"
      },
      "source": [
        "type(x)"
      ],
      "execution_count": 0,
      "outputs": [
        {
          "output_type": "execute_result",
          "data": {
            "text/plain": [
              "numpy.ndarray"
            ]
          },
          "metadata": {
            "tags": []
          },
          "execution_count": 10
        }
      ]
    },
    {
      "cell_type": "code",
      "metadata": {
        "id": "7Doc7B72CAXU",
        "colab_type": "code",
        "colab": {}
      },
      "source": [
        "from sklearn.preprocessing import LabelEncoder, OneHotEncoder"
      ],
      "execution_count": 0,
      "outputs": []
    },
    {
      "cell_type": "code",
      "metadata": {
        "id": "cg2Cs0P0CAXa",
        "colab_type": "code",
        "colab": {}
      },
      "source": [
        "label=LabelEncoder()"
      ],
      "execution_count": 0,
      "outputs": []
    },
    {
      "cell_type": "code",
      "metadata": {
        "id": "nDMKIgKVCAXl",
        "colab_type": "code",
        "colab": {}
      },
      "source": [
        "x[:,3]=label.fit_transform(x[:,3])"
      ],
      "execution_count": 0,
      "outputs": []
    },
    {
      "cell_type": "code",
      "metadata": {
        "id": "SXDzF6T9CAXw",
        "colab_type": "code",
        "colab": {}
      },
      "source": [
        "ohe=OneHotEncoder(categorical_features = [3])"
      ],
      "execution_count": 0,
      "outputs": []
    },
    {
      "cell_type": "code",
      "metadata": {
        "id": "P3r7DBayCAX4",
        "colab_type": "code",
        "colab": {},
        "outputId": "e48803d2-33cb-4d9f-ec54-4226a74e14c9"
      },
      "source": [
        "x=ohe.fit_transform(x).toarray()"
      ],
      "execution_count": 0,
      "outputs": [
        {
          "output_type": "stream",
          "text": [
            "/opt/conda/envs/Python36/lib/python3.6/site-packages/sklearn/preprocessing/_encoders.py:371: FutureWarning: The handling of integer data will change in version 0.22. Currently, the categories are determined based on the range [0, max(values)], while in the future they will be determined based on the unique values.\n",
            "If you want the future behaviour and silence this warning, you can specify \"categories='auto'\".\n",
            "In case you used a LabelEncoder before this OneHotEncoder to convert the categories to integers, then you can now use the OneHotEncoder directly.\n",
            "  warnings.warn(msg, FutureWarning)\n",
            "/opt/conda/envs/Python36/lib/python3.6/site-packages/sklearn/preprocessing/_encoders.py:392: DeprecationWarning: The 'categorical_features' keyword is deprecated in version 0.20 and will be removed in 0.22. You can use the ColumnTransformer instead.\n",
            "  \"use the ColumnTransformer instead.\", DeprecationWarning)\n"
          ],
          "name": "stderr"
        }
      ]
    },
    {
      "cell_type": "code",
      "metadata": {
        "id": "izng1t0PCAX-",
        "colab_type": "code",
        "colab": {}
      },
      "source": [
        "x=x[:,1:]"
      ],
      "execution_count": 0,
      "outputs": []
    },
    {
      "cell_type": "code",
      "metadata": {
        "id": "hHlpu96OCAYD",
        "colab_type": "code",
        "colab": {}
      },
      "source": [
        "x1,y1=list(x),list(y)"
      ],
      "execution_count": 0,
      "outputs": []
    },
    {
      "cell_type": "code",
      "metadata": {
        "id": "Ywe3TrzQCAYK",
        "colab_type": "code",
        "colab": {},
        "outputId": "e365ab24-deaf-496c-8dfe-70795184bfe5"
      },
      "source": [
        "len(x1)"
      ],
      "execution_count": 0,
      "outputs": [
        {
          "output_type": "execute_result",
          "data": {
            "text/plain": [
              "50"
            ]
          },
          "metadata": {
            "tags": []
          },
          "execution_count": 28
        }
      ]
    },
    {
      "cell_type": "code",
      "metadata": {
        "id": "jgfp5TlHCAYP",
        "colab_type": "code",
        "colab": {}
      },
      "source": [
        "from sklearn.model_selection import train_test_split\n",
        "x_train,x_test,y_train,y_test=train_test_split(x,y,test_size=0.3,random_state=0)"
      ],
      "execution_count": 0,
      "outputs": []
    },
    {
      "cell_type": "code",
      "metadata": {
        "id": "OXLBTBqMCAYV",
        "colab_type": "code",
        "colab": {},
        "outputId": "86c496a1-e93b-4d5a-eccb-3484c3bfd041"
      },
      "source": [
        "import keras"
      ],
      "execution_count": 0,
      "outputs": [
        {
          "output_type": "stream",
          "text": [
            "Using TensorFlow backend.\n"
          ],
          "name": "stderr"
        }
      ]
    },
    {
      "cell_type": "code",
      "metadata": {
        "id": "hcxqcRiDCAYa",
        "colab_type": "code",
        "colab": {}
      },
      "source": [
        "from keras.models import Sequential #initalizing NN\n",
        "from keras.layers import Dense #to add layers"
      ],
      "execution_count": 0,
      "outputs": []
    },
    {
      "cell_type": "code",
      "metadata": {
        "id": "LBsCBe25CAYe",
        "colab_type": "code",
        "colab": {}
      },
      "source": [
        "model=Sequential()"
      ],
      "execution_count": 0,
      "outputs": []
    },
    {
      "cell_type": "code",
      "metadata": {
        "id": "2J_CIPiiCAYj",
        "colab_type": "code",
        "colab": {},
        "outputId": "2b0881be-06af-4eb5-bd23-49efd791cd5b"
      },
      "source": [
        "model.add(Dense(input_dim=5,init=\"random_uniform\",activation=\"relu\",output_dim=3)) #no. of independent layers for independent layer(5)"
      ],
      "execution_count": 0,
      "outputs": [
        {
          "output_type": "stream",
          "text": [
            "WARNING:tensorflow:From /opt/conda/envs/Python36/lib/python3.6/site-packages/tensorflow/python/framework/op_def_library.py:263: colocate_with (from tensorflow.python.framework.ops) is deprecated and will be removed in a future version.\n",
            "Instructions for updating:\n",
            "Colocations handled automatically by placer.\n"
          ],
          "name": "stdout"
        },
        {
          "output_type": "stream",
          "text": [
            "/opt/conda/envs/Python36/lib/python3.6/site-packages/ipykernel/__main__.py:1: UserWarning: Update your `Dense` call to the Keras 2 API: `Dense(input_dim=5, activation=\"relu\", units=3, kernel_initializer=\"random_uniform\")`\n",
            "  if __name__ == '__main__':\n"
          ],
          "name": "stderr"
        }
      ]
    },
    {
      "cell_type": "code",
      "metadata": {
        "id": "IG-JWzjpCAYp",
        "colab_type": "code",
        "colab": {},
        "outputId": "ed0f672e-6321-4229-f3aa-cdfe014c17d3"
      },
      "source": [
        "model.add(Dense(output_dim=3,init=\"random_uniform\",activation=\"relu\"))"
      ],
      "execution_count": 0,
      "outputs": [
        {
          "output_type": "stream",
          "text": [
            "/opt/conda/envs/Python36/lib/python3.6/site-packages/ipykernel/__main__.py:1: UserWarning: Update your `Dense` call to the Keras 2 API: `Dense(activation=\"relu\", units=3, kernel_initializer=\"random_uniform\")`\n",
            "  if __name__ == '__main__':\n"
          ],
          "name": "stderr"
        }
      ]
    },
    {
      "cell_type": "code",
      "metadata": {
        "id": "sZA6mWgMCAYu",
        "colab_type": "code",
        "colab": {},
        "outputId": "12c96f05-02c3-48b0-e5ea-963e72b757cf"
      },
      "source": [
        "model.add(Dense(output_dim=1,init=\"random_uniform\"))"
      ],
      "execution_count": 0,
      "outputs": [
        {
          "output_type": "stream",
          "text": [
            "/opt/conda/envs/Python36/lib/python3.6/site-packages/ipykernel/__main__.py:1: UserWarning: Update your `Dense` call to the Keras 2 API: `Dense(units=1, kernel_initializer=\"random_uniform\")`\n",
            "  if __name__ == '__main__':\n"
          ],
          "name": "stderr"
        }
      ]
    },
    {
      "cell_type": "code",
      "metadata": {
        "id": "CTJZ9vLLCAY0",
        "colab_type": "code",
        "colab": {}
      },
      "source": [
        "model.compile(optimizer=\"adam\", loss=\"mse\", metrics=['mse']) #batch, mean sqaure, mean square"
      ],
      "execution_count": 0,
      "outputs": []
    },
    {
      "cell_type": "code",
      "metadata": {
        "id": "aPBW17HpCAY4",
        "colab_type": "code",
        "colab": {},
        "outputId": "09222a56-e4a4-4609-c374-efcd7c2365b0"
      },
      "source": [
        "model.fit(x_train, y_train, epochs=50, batch_size=10)"
      ],
      "execution_count": 0,
      "outputs": [
        {
          "output_type": "stream",
          "text": [
            "WARNING:tensorflow:From /opt/conda/envs/Python36/lib/python3.6/site-packages/tensorflow/python/ops/math_ops.py:3066: to_int32 (from tensorflow.python.ops.math_ops) is deprecated and will be removed in a future version.\n",
            "Instructions for updating:\n",
            "Use tf.cast instead.\n",
            "Epoch 1/50\n",
            "35/35 [==============================] - 1s 29ms/step - loss: 13999643209.1429 - mean_squared_error: 13999643209.1429\n",
            "Epoch 2/50\n",
            "35/35 [==============================] - 0s 3ms/step - loss: 13999504822.8571 - mean_squared_error: 13999504822.8571\n",
            "Epoch 3/50\n",
            "35/35 [==============================] - 0s 3ms/step - loss: 13999150665.1429 - mean_squared_error: 13999150665.1429\n",
            "Epoch 4/50\n",
            "35/35 [==============================] - 0s 2ms/step - loss: 13998354139.4286 - mean_squared_error: 13998354139.4286\n",
            "Epoch 5/50\n",
            "35/35 [==============================] - 0s 6ms/step - loss: 13997068288.0000 - mean_squared_error: 13997068288.0000\n",
            "Epoch 6/50\n",
            "35/35 [==============================] - 0s 1ms/step - loss: 13995065197.7143 - mean_squared_error: 13995065197.7143\n",
            "Epoch 7/50\n",
            "35/35 [==============================] - 0s 2ms/step - loss: 13992297325.7143 - mean_squared_error: 13992297325.7143\n",
            "Epoch 8/50\n",
            "35/35 [==============================] - 0s 2ms/step - loss: 13987158601.1429 - mean_squared_error: 13987158601.1429\n",
            "Epoch 9/50\n",
            "35/35 [==============================] - 0s 2ms/step - loss: 13979522486.8571 - mean_squared_error: 13979522486.8571\n",
            "Epoch 10/50\n",
            "35/35 [==============================] - 0s 2ms/step - loss: 13969016393.1429 - mean_squared_error: 13969016393.1429\n",
            "Epoch 11/50\n",
            "35/35 [==============================] - 0s 2ms/step - loss: 13954953362.2857 - mean_squared_error: 13954953362.2857\n",
            "Epoch 12/50\n",
            "35/35 [==============================] - 0s 3ms/step - loss: 13935400301.7143 - mean_squared_error: 13935400301.7143\n",
            "Epoch 13/50\n",
            "35/35 [==============================] - 0s 2ms/step - loss: 13909849965.7143 - mean_squared_error: 13909849965.7143\n",
            "Epoch 14/50\n",
            "35/35 [==============================] - 0s 6ms/step - loss: 13878286189.7143 - mean_squared_error: 13878286189.7143\n",
            "Epoch 15/50\n",
            "35/35 [==============================] - 0s 5ms/step - loss: 13835364644.5714 - mean_squared_error: 13835364644.5714\n",
            "Epoch 16/50\n",
            "35/35 [==============================] - 0s 2ms/step - loss: 13787683840.0000 - mean_squared_error: 13787683840.0000\n",
            "Epoch 17/50\n",
            "35/35 [==============================] - 0s 1ms/step - loss: 13721677238.8571 - mean_squared_error: 13721677238.8571\n",
            "Epoch 18/50\n",
            "35/35 [==============================] - 0s 3ms/step - loss: 13644207835.4286 - mean_squared_error: 13644207835.4286\n",
            "Epoch 19/50\n",
            "35/35 [==============================] - 0s 4ms/step - loss: 13551884580.5714 - mean_squared_error: 13551884580.5714\n",
            "Epoch 20/50\n",
            "35/35 [==============================] - 0s 2ms/step - loss: 13445415058.2857 - mean_squared_error: 13445415058.2857\n",
            "Epoch 21/50\n",
            "35/35 [==============================] - 0s 2ms/step - loss: 13309109979.4286 - mean_squared_error: 13309109979.4286\n",
            "Epoch 22/50\n",
            "35/35 [==============================] - 0s 2ms/step - loss: 13159713206.8571 - mean_squared_error: 13159713206.8571\n",
            "Epoch 23/50\n",
            "35/35 [==============================] - 0s 2ms/step - loss: 12985730779.4286 - mean_squared_error: 12985730779.4286\n",
            "Epoch 24/50\n",
            "35/35 [==============================] - 0s 2ms/step - loss: 12783912960.0000 - mean_squared_error: 12783912960.0000\n",
            "Epoch 25/50\n",
            "35/35 [==============================] - 0s 2ms/step - loss: 12577712274.2857 - mean_squared_error: 12577712274.2857\n",
            "Epoch 26/50\n",
            "35/35 [==============================] - 0s 6ms/step - loss: 12314808905.1429 - mean_squared_error: 12314808905.1429\n",
            "Epoch 27/50\n",
            "35/35 [==============================] - 0s 3ms/step - loss: 12046278070.8571 - mean_squared_error: 12046278070.8571\n",
            "Epoch 28/50\n",
            "35/35 [==============================] - 0s 2ms/step - loss: 11738819730.2857 - mean_squared_error: 11738819730.2857\n",
            "Epoch 29/50\n",
            "35/35 [==============================] - 0s 4ms/step - loss: 11394653184.0000 - mean_squared_error: 11394653184.0000\n",
            "Epoch 30/50\n",
            "35/35 [==============================] - 0s 2ms/step - loss: 11052960329.1429 - mean_squared_error: 11052960329.1429\n",
            "Epoch 31/50\n",
            "35/35 [==============================] - 0s 2ms/step - loss: 10653196141.7143 - mean_squared_error: 10653196141.7143\n",
            "Epoch 32/50\n",
            "35/35 [==============================] - 0s 2ms/step - loss: 10256427446.8571 - mean_squared_error: 10256427446.8571\n",
            "Epoch 33/50\n",
            "35/35 [==============================] - 0s 2ms/step - loss: 9801592100.5714 - mean_squared_error: 9801592100.5714\n",
            "Epoch 34/50\n",
            "35/35 [==============================] - 0s 2ms/step - loss: 9372545609.1429 - mean_squared_error: 9372545609.1429\n",
            "Epoch 35/50\n",
            "35/35 [==============================] - 0s 2ms/step - loss: 8864781238.8571 - mean_squared_error: 8864781238.8571\n",
            "Epoch 36/50\n",
            "35/35 [==============================] - 0s 2ms/step - loss: 8337511570.2857 - mean_squared_error: 8337511570.2857\n",
            "Epoch 37/50\n",
            "35/35 [==============================] - 0s 2ms/step - loss: 7879035465.1429 - mean_squared_error: 7879035465.1429\n",
            "Epoch 38/50\n",
            "35/35 [==============================] - 0s 5ms/step - loss: 7337709568.0000 - mean_squared_error: 7337709568.0000\n",
            "Epoch 39/50\n",
            "35/35 [==============================] - 0s 4ms/step - loss: 6783462985.1429 - mean_squared_error: 6783462985.1429\n",
            "Epoch 40/50\n",
            "35/35 [==============================] - 0s 6ms/step - loss: 6242748269.7143 - mean_squared_error: 6242748269.7143\n",
            "Epoch 41/50\n",
            "35/35 [==============================] - 0s 5ms/step - loss: 5749126473.1429 - mean_squared_error: 5749126473.1429\n",
            "Epoch 42/50\n",
            "35/35 [==============================] - 0s 2ms/step - loss: 5194224749.7143 - mean_squared_error: 5194224749.7143\n",
            "Epoch 43/50\n",
            "35/35 [==============================] - 0s 3ms/step - loss: 4664848128.0000 - mean_squared_error: 4664848128.0000\n",
            "Epoch 44/50\n",
            "35/35 [==============================] - 0s 5ms/step - loss: 4151991296.0000 - mean_squared_error: 4151991296.0000\n",
            "Epoch 45/50\n",
            "35/35 [==============================] - 0s 4ms/step - loss: 3696032621.7143 - mean_squared_error: 3696032621.7143\n",
            "Epoch 46/50\n",
            "35/35 [==============================] - 0s 4ms/step - loss: 3235304301.7143 - mean_squared_error: 3235304301.7143\n",
            "Epoch 47/50\n",
            "35/35 [==============================] - 0s 4ms/step - loss: 2822197248.0000 - mean_squared_error: 2822197248.0000\n",
            "Epoch 48/50\n",
            "35/35 [==============================] - 0s 3ms/step - loss: 2396110555.4286 - mean_squared_error: 2396110555.4286\n",
            "Epoch 49/50\n",
            "35/35 [==============================] - 0s 2ms/step - loss: 2031674733.7143 - mean_squared_error: 2031674733.7143\n",
            "Epoch 50/50\n",
            "35/35 [==============================] - 0s 2ms/step - loss: 1728778678.8571 - mean_squared_error: 1728778678.8571\n"
          ],
          "name": "stdout"
        },
        {
          "output_type": "execute_result",
          "data": {
            "text/plain": [
              "<keras.callbacks.History at 0x7f642c73a748>"
            ]
          },
          "metadata": {
            "tags": []
          },
          "execution_count": 30
        }
      ]
    },
    {
      "cell_type": "code",
      "metadata": {
        "id": "iQnuJ6eGCAY9",
        "colab_type": "code",
        "colab": {},
        "outputId": "542e4863-dcc7-4ae5-8c15-13c788da21a7"
      },
      "source": [
        "model.predict(x_test)"
      ],
      "execution_count": 0,
      "outputs": [
        {
          "output_type": "execute_result",
          "data": {
            "text/plain": [
              "array([[ 73738.16 ],\n",
              "       [ 84089.234],\n",
              "       [ 84728.45 ],\n",
              "       [ 53465.43 ],\n",
              "       [124598.414],\n",
              "       [105272.27 ],\n",
              "       [ 51665.02 ],\n",
              "       [ 60857.285],\n",
              "       [ 95520.56 ],\n",
              "       [112796.68 ],\n",
              "       [ 71724.305],\n",
              "       [ 64351.996],\n",
              "       [ 69917.98 ],\n",
              "       [ 81291.625],\n",
              "       [ 95461.055]], dtype=float32)"
            ]
          },
          "metadata": {
            "tags": []
          },
          "execution_count": 31
        }
      ]
    },
    {
      "cell_type": "code",
      "metadata": {
        "id": "HvHurjZ_CAZB",
        "colab_type": "code",
        "colab": {},
        "outputId": "d780c659-cb1b-479d-bae4-f9b54ca25d90"
      },
      "source": [
        "x_train[1]"
      ],
      "execution_count": 0,
      "outputs": [
        {
          "output_type": "execute_result",
          "data": {
            "text/plain": [
              "array([1.0000000e+00, 0.0000000e+00, 1.1994324e+05, 1.5654742e+05,\n",
              "       2.5651292e+05])"
            ]
          },
          "metadata": {
            "tags": []
          },
          "execution_count": 32
        }
      ]
    },
    {
      "cell_type": "code",
      "metadata": {
        "id": "ArUsYV5_CAZG",
        "colab_type": "code",
        "colab": {}
      },
      "source": [
        "pred = model.predict(np.array([[1,0,1199434,15654742,2.565157]]))"
      ],
      "execution_count": 0,
      "outputs": []
    },
    {
      "cell_type": "code",
      "metadata": {
        "id": "umz398aNCAZM",
        "colab_type": "code",
        "colab": {}
      },
      "source": [
        "model.save(\"50startup_ann.h5\")"
      ],
      "execution_count": 0,
      "outputs": []
    },
    {
      "cell_type": "code",
      "metadata": {
        "id": "afKF82XGCAZT",
        "colab_type": "code",
        "colab": {},
        "outputId": "cf61d4b3-956e-4d2e-f5a3-1671aa515653"
      },
      "source": [
        "!tar -zcvf 50startup_ann.tgz 50startup_ann.h5"
      ],
      "execution_count": 0,
      "outputs": [
        {
          "output_type": "stream",
          "text": [
            "50startup_ann.h5\r\n"
          ],
          "name": "stdout"
        }
      ]
    },
    {
      "cell_type": "code",
      "metadata": {
        "id": "pT8Bt6DHCAZY",
        "colab_type": "code",
        "colab": {}
      },
      "source": [
        "from watson_machine_learning_client import WatsonMachineLearningAPIClient"
      ],
      "execution_count": 0,
      "outputs": []
    },
    {
      "cell_type": "code",
      "metadata": {
        "id": "OtKGMBqJCAZc",
        "colab_type": "code",
        "colab": {}
      },
      "source": [
        "wml_credentials={\n",
        "  \"apikey\": \"KtBBvLDvceSMhxmWylTPyWNCV6jQDVBPzPA4hQjNAUpW\",\n",
        "  \"iam_apikey_description\": \"Auto-generated for key e518394b-b4d7-4ba4-ac67-8ca38606012c\",\n",
        "  \"iam_apikey_name\": \"Service credentials-1\",\n",
        "  \"iam_role_crn\": \"crn:v1:bluemix:public:iam::::serviceRole:Writer\",\n",
        "  \"iam_serviceid_crn\": \"crn:v1:bluemix:public:iam-identity::a/3d5a2d0e26934545a3cb7765e53415ee::serviceid:ServiceId-24633d5f-5e41-41b3-9c0f-fa04d83fb415\",\n",
        "  \"instance_id\": \"4414a1f0-f32c-4bae-989f-9adc254d9578\",\n",
        "  \"url\": \"https://eu-gb.ml.cloud.ibm.com\"\n",
        "}"
      ],
      "execution_count": 0,
      "outputs": []
    },
    {
      "cell_type": "code",
      "metadata": {
        "id": "kko8HDS0CAZg",
        "colab_type": "code",
        "colab": {}
      },
      "source": [
        "client = WatsonMachineLearningAPIClient( wml_credentials )"
      ],
      "execution_count": 0,
      "outputs": []
    },
    {
      "cell_type": "code",
      "metadata": {
        "id": "Ds66MJvVCAZl",
        "colab_type": "code",
        "colab": {}
      },
      "source": [
        "metadata = {\n",
        "    client.repository.ModelMetaNames.NAME: \"50_ann_tgz\",\n",
        "    client.repository.ModelMetaNames.FRAMEWORK_LIBRARIES: [{'name':'keras', 'version': '2.2.4'}],\n",
        "    client.repository.ModelMetaNames.FRAMEWORK_VERSION: \"1.13\",\n",
        "    client.repository.ModelMetaNames.FRAMEWORK_NAME: \"tensorflow\"\n",
        "}"
      ],
      "execution_count": 0,
      "outputs": []
    },
    {
      "cell_type": "code",
      "metadata": {
        "id": "BoUesxyYCAZp",
        "colab_type": "code",
        "colab": {}
      },
      "source": [
        "model_details = client.repository.store_model( model=\"50startup_ann.tgz\", meta_props=metadata )"
      ],
      "execution_count": 0,
      "outputs": []
    },
    {
      "cell_type": "code",
      "metadata": {
        "id": "LH5FWILUCAZv",
        "colab_type": "code",
        "colab": {},
        "outputId": "2b35861f-b3da-45d2-b785-1b227a05ed62"
      },
      "source": [
        "model_id = model_details[\"metadata\"][\"guid\"]\n",
        "model_deployment_details = client.deployments.create( artifact_uid=model_id, name=\"deployment\" )"
      ],
      "execution_count": 0,
      "outputs": [
        {
          "output_type": "stream",
          "text": [
            "\n",
            "\n",
            "#######################################################################################\n",
            "\n",
            "Synchronous deployment creation for uid: '7dac5b3c-136f-4502-88bc-b7b7cc67f8e5' started\n",
            "\n",
            "#######################################################################################\n",
            "\n",
            "\n",
            "INITIALIZING\n",
            "DEPLOY_IN_PROGRESS...\n",
            "DEPLOY_SUCCESS\n",
            "\n",
            "\n",
            "------------------------------------------------------------------------------------------------\n",
            "Successfully finished deployment creation, deployment_uid='51f08a26-fe90-4fa8-9f70-d124e24b2a5b'\n",
            "------------------------------------------------------------------------------------------------\n",
            "\n",
            "\n"
          ],
          "name": "stdout"
        }
      ]
    },
    {
      "cell_type": "code",
      "metadata": {
        "id": "YdY0csG_CAZ1",
        "colab_type": "code",
        "colab": {}
      },
      "source": [
        "scoring_endpoint = client.deployments.get_scoring_url(model_deployment_details)"
      ],
      "execution_count": 0,
      "outputs": []
    },
    {
      "cell_type": "code",
      "metadata": {
        "id": "Q8nx6xT5CAZ4",
        "colab_type": "code",
        "colab": {},
        "outputId": "7a0d2d39-cc08-45e4-b267-13d6f5f6e2d3"
      },
      "source": [
        "scoring_endpoint"
      ],
      "execution_count": 0,
      "outputs": [
        {
          "output_type": "execute_result",
          "data": {
            "text/plain": [
              "'https://eu-gb.ml.cloud.ibm.com/v3/wml_instances/4414a1f0-f32c-4bae-989f-9adc254d9578/deployments/51f08a26-fe90-4fa8-9f70-d124e24b2a5b/online'"
            ]
          },
          "metadata": {
            "tags": []
          },
          "execution_count": 44
        }
      ]
    },
    {
      "cell_type": "code",
      "metadata": {
        "id": "XpFvtWKZCAZ9",
        "colab_type": "code",
        "colab": {}
      },
      "source": [
        "keras.__version__"
      ],
      "execution_count": 0,
      "outputs": []
    },
    {
      "cell_type": "code",
      "metadata": {
        "id": "W_UmVdqGCAaB",
        "colab_type": "code",
        "colab": {}
      },
      "source": [
        "import tensorflow\n",
        "tensorflow.__version__"
      ],
      "execution_count": 0,
      "outputs": []
    },
    {
      "cell_type": "code",
      "metadata": {
        "id": "KuPTmFxaCAaH",
        "colab_type": "code",
        "colab": {}
      },
      "source": [
        ""
      ],
      "execution_count": 0,
      "outputs": []
    }
  ]
}